{
 "cells": [
  {
   "cell_type": "markdown",
   "metadata": {},
   "source": [
    "# Modeling\n",
    "\n",
    "Now that we've explored our data and better understand some of the relationships between our outcome variable (banker's offer) and relevant covariates of interest (state of the board, game round), we can train some models on the data and see how well the predict the banker's offer. Specifically, our exploration suggests that there is a strong linear relationship between the offer and the remaining average board values, controlling for what round the game is in.\n",
    "\n",
    "After fitting models and testing them, we found that the XGBoost model outperforms every other model in terms of out-of-sample error; however, this performance improvement is minimal compared to the linear regression model we found based on exploration. Therefore, given the tradeoff between performance and interpretability, I would prefer to explore the linear regression model (see below for analysis).\n",
    "\n",
    "With the model finally built, I now have an offer calculator that I can use to mimic the banker's behavior in my 'Deal or No Deal' game simulator. However, the tradeoff with using linear regression to generate the offers is that the output is the expected value of the offer based on user-inputs; that is, it is possible to get negative offers with low enough values! As an alternative to avoid this potentially messy situation, I instead create a simple non-parametric sampler of the existing data to generate offer values that are more plausible from the status of the game."
   ]
  },
  {
   "cell_type": "code",
   "execution_count": 1,
   "metadata": {},
   "outputs": [],
   "source": [
    "import pandas as pd\n",
    "import numpy as np\n",
    "import pickle\n",
    "from matplotlib import pyplot as plt\n",
    "import seaborn as sns\n",
    "\n",
    "## modeling packages\n",
    "import statsmodels.formula.api as smf\n",
    "import statsmodels.api as sm\n",
    "from sklearn.model_selection import train_test_split, RandomizedSearchCV\n",
    "from sklearn.pipeline import Pipeline\n",
    "from sklearn.metrics import mean_squared_error\n",
    "from sklearn.ensemble import RandomForestRegressor, GradientBoostingRegressor\n",
    "from xgboost import XGBRegressor\n",
    "from sklearn.neighbors import KNeighborsRegressor\n",
    "from sklearn.linear_model import LinearRegression\n",
    "from sklearn.preprocessing import OneHotEncoder\n",
    "from sklearn.compose import ColumnTransformer\n",
    "from sklearn.feature_selection import RFECV\n",
    "from sklearn.impute import SimpleImputer\n",
    "from scipy.stats import randint, uniform"
   ]
  },
  {
   "cell_type": "code",
   "execution_count": 2,
   "metadata": {},
   "outputs": [],
   "source": [
    "modeling_columns = ['ID', 'round', 'offer', 'remaining_avg', 'remaining_prop_right', 'remaining_prop_big', 'season']\n",
    "data = pd.read_csv('../data/dond_processed_data.csv')\n",
    "modeling_data = data.loc[data['offer'].notnull(),modeling_columns].reset_index(drop=True)"
   ]
  },
  {
   "cell_type": "code",
   "execution_count": 3,
   "metadata": {},
   "outputs": [
    {
     "name": "stdout",
     "output_type": "stream",
     "text": [
      "<class 'pandas.core.frame.DataFrame'>\n",
      "RangeIndex: 1324 entries, 0 to 1323\n",
      "Data columns (total 7 columns):\n",
      " #   Column                Non-Null Count  Dtype  \n",
      "---  ------                --------------  -----  \n",
      " 0   ID                    1324 non-null   int64  \n",
      " 1   round                 1324 non-null   int64  \n",
      " 2   offer                 1324 non-null   float64\n",
      " 3   remaining_avg         1324 non-null   float64\n",
      " 4   remaining_prop_right  1324 non-null   float64\n",
      " 5   remaining_prop_big    1324 non-null   float64\n",
      " 6   season                1324 non-null   float64\n",
      "dtypes: float64(5), int64(2)\n",
      "memory usage: 72.5 KB\n"
     ]
    }
   ],
   "source": [
    "modeling_data.info()"
   ]
  },
  {
   "cell_type": "code",
   "execution_count": 4,
   "metadata": {},
   "outputs": [
    {
     "data": {
      "text/html": [
       "<div>\n",
       "<style scoped>\n",
       "    .dataframe tbody tr th:only-of-type {\n",
       "        vertical-align: middle;\n",
       "    }\n",
       "\n",
       "    .dataframe tbody tr th {\n",
       "        vertical-align: top;\n",
       "    }\n",
       "\n",
       "    .dataframe thead th {\n",
       "        text-align: right;\n",
       "    }\n",
       "</style>\n",
       "<table border=\"1\" class=\"dataframe\">\n",
       "  <thead>\n",
       "    <tr style=\"text-align: right;\">\n",
       "      <th></th>\n",
       "      <th>ID</th>\n",
       "      <th>round</th>\n",
       "      <th>offer</th>\n",
       "      <th>remaining_avg</th>\n",
       "      <th>remaining_prop_right</th>\n",
       "      <th>remaining_prop_big</th>\n",
       "      <th>season</th>\n",
       "    </tr>\n",
       "  </thead>\n",
       "  <tbody>\n",
       "    <tr>\n",
       "      <th>0</th>\n",
       "      <td>1</td>\n",
       "      <td>1</td>\n",
       "      <td>21000.0</td>\n",
       "      <td>170639.300000</td>\n",
       "      <td>0.600000</td>\n",
       "      <td>0.350000</td>\n",
       "      <td>1.0</td>\n",
       "    </tr>\n",
       "    <tr>\n",
       "      <th>1</th>\n",
       "      <td>1</td>\n",
       "      <td>2</td>\n",
       "      <td>37000.0</td>\n",
       "      <td>84129.066667</td>\n",
       "      <td>0.600000</td>\n",
       "      <td>0.266667</td>\n",
       "      <td>1.0</td>\n",
       "    </tr>\n",
       "    <tr>\n",
       "      <th>2</th>\n",
       "      <td>1</td>\n",
       "      <td>3</td>\n",
       "      <td>53000.0</td>\n",
       "      <td>98806.909091</td>\n",
       "      <td>0.636364</td>\n",
       "      <td>0.272727</td>\n",
       "      <td>1.0</td>\n",
       "    </tr>\n",
       "    <tr>\n",
       "      <th>3</th>\n",
       "      <td>1</td>\n",
       "      <td>4</td>\n",
       "      <td>77000.0</td>\n",
       "      <td>110734.375000</td>\n",
       "      <td>0.625000</td>\n",
       "      <td>0.250000</td>\n",
       "      <td>1.0</td>\n",
       "    </tr>\n",
       "    <tr>\n",
       "      <th>4</th>\n",
       "      <td>1</td>\n",
       "      <td>5</td>\n",
       "      <td>63000.0</td>\n",
       "      <td>95979.166667</td>\n",
       "      <td>0.500000</td>\n",
       "      <td>0.166667</td>\n",
       "      <td>1.0</td>\n",
       "    </tr>\n",
       "  </tbody>\n",
       "</table>\n",
       "</div>"
      ],
      "text/plain": [
       "   ID  round    offer  remaining_avg  remaining_prop_right  \\\n",
       "0   1      1  21000.0  170639.300000              0.600000   \n",
       "1   1      2  37000.0   84129.066667              0.600000   \n",
       "2   1      3  53000.0   98806.909091              0.636364   \n",
       "3   1      4  77000.0  110734.375000              0.625000   \n",
       "4   1      5  63000.0   95979.166667              0.500000   \n",
       "\n",
       "   remaining_prop_big  season  \n",
       "0            0.350000     1.0  \n",
       "1            0.266667     1.0  \n",
       "2            0.272727     1.0  \n",
       "3            0.250000     1.0  \n",
       "4            0.166667     1.0  "
      ]
     },
     "execution_count": 4,
     "metadata": {},
     "output_type": "execute_result"
    }
   ],
   "source": [
    "modeling_data.head()"
   ]
  },
  {
   "cell_type": "markdown",
   "metadata": {},
   "source": [
    "## traditional machine learning approach\n",
    "\n",
    "In the following section, I train a series of models using best practices for predictive analytics (train-test split, cross-validation and searching for hyperparameters/variables depending on the model class, and evaluating performance on out-of-sample data). One thing to note is that I stratify the initial sampling by season to account for the differences in the early round offers across the seasons that we identified during our exploration. \n",
    "\n",
    "From the results we can see that ensemble decision-tree methods (Random Forest, Gradient Boosted Trees, XGBoost) have the best performance on testing data, and that the XGBoost model slightly outperforms the rest of these models."
   ]
  },
  {
   "cell_type": "code",
   "execution_count": 5,
   "metadata": {},
   "outputs": [],
   "source": [
    "X = modeling_data.drop(columns=['offer', 'ID'])\n",
    "y = modeling_data['offer']\n",
    "\n",
    "## splitting the data\n",
    "X_train, X_test, y_train, y_test = train_test_split(X, y, test_size=0.4, random_state=42, stratify=X['season'])\n",
    "\n",
    "## building pipelines for testing results\n",
    "# Linear regression\n",
    "categorical_features = ['round', 'season']\n",
    "categorical_transformer = Pipeline(steps=[\n",
    "    ('imputer', SimpleImputer(strategy='constant', fill_value=-1)),\n",
    "    ('onehot', OneHotEncoder(drop='first', handle_unknown='ignore'))\n",
    "])\n",
    "\n",
    "preprocessor = ColumnTransformer(\n",
    "    transformers=[\n",
    "        ('cat', categorical_transformer, categorical_features)\n",
    "    ],\n",
    "    remainder='passthrough'\n",
    ")\n",
    "\n",
    "linear_model_pipeline = Pipeline(steps=[\n",
    "    ('preprocessor', preprocessor),\n",
    "    ('feature_selection', RFECV(estimator=LinearRegression(), step=1, cv=5, scoring='neg_mean_squared_error')),\n",
    "    ('regressor', LinearRegression())\n",
    "])\n",
    "\n",
    "# Models other than linear regression\n",
    "pipelines = {\n",
    "    'random_forest': Pipeline([('model', RandomForestRegressor())]),\n",
    "    'gradient_boosting': Pipeline([('model', GradientBoostingRegressor())]),\n",
    "    'xgboost': Pipeline([('model', XGBRegressor())]),\n",
    "    'knn': Pipeline([('model', KNeighborsRegressor())]),\n",
    "    'linear_regression': linear_model_pipeline\n",
    "}\n",
    "\n",
    "param_grids = {\n",
    "    'random_forest': {\n",
    "        'model__n_estimators': randint(50, 200),\n",
    "        'model__max_depth': randint(3, 20)\n",
    "    },\n",
    "    'gradient_boosting': {\n",
    "        'model__n_estimators': randint(50, 200),\n",
    "        'model__learning_rate': uniform(0.01, 0.3),\n",
    "        'model__max_depth': randint(3, 20)\n",
    "    },\n",
    "    'xgboost': {\n",
    "        'model__n_estimators': randint(50, 200),\n",
    "        'model__learning_rate': uniform(0.01, 0.3),\n",
    "        'model__max_depth': randint(3, 20)\n",
    "    },\n",
    "    'knn': {\n",
    "        'model__n_neighbors': randint(1, 20),\n",
    "        'model__weights': ['uniform', 'distance']\n",
    "    },\n",
    "    'linear_regression': {\n",
    "        # No hyperparameters to tune for linear regression\n",
    "    }\n",
    "}\n",
    "\n",
    "# Function to perform RandomizedSearchCV and evaluate model\n",
    "def evaluate_model(pipeline, param_grid, X_train, y_train, X_test, y_test):\n",
    "    if param_grid:  # Only perform RandomizedSearchCV if there are parameters to tune\n",
    "        search = RandomizedSearchCV(pipeline, param_grid, n_iter=50, scoring='neg_mean_squared_error', \n",
    "                                    cv=5, random_state=42, n_jobs=-1, verbose=1)\n",
    "        search.fit(X_train, y_train)\n",
    "        best_model = search.best_estimator_\n",
    "        print(f'Best parameters: {search.best_params_}')\n",
    "    else:  # For linear regression without hyperparameter tuning\n",
    "        pipeline.fit(X_train, y_train)\n",
    "        best_model = pipeline\n",
    "    \n",
    "    # Evaluate on test set\n",
    "    y_pred = best_model.predict(X_test)\n",
    "    test_rmse = np.sqrt(mean_squared_error(y_test, y_pred))\n",
    "    print(f'Test Root Mean Squared Error: {test_rmse}')\n",
    "    \n",
    "    return best_model, test_rmse"
   ]
  },
  {
   "cell_type": "code",
   "execution_count": 6,
   "metadata": {},
   "outputs": [
    {
     "name": "stdout",
     "output_type": "stream",
     "text": [
      "Evaluating random_forest...\n",
      "Fitting 5 folds for each of 50 candidates, totalling 250 fits\n",
      "Best parameters: {'model__max_depth': 9, 'model__n_estimators': 142}\n",
      "Test Root Mean Squared Error: 21138.47608715846\n",
      "Evaluating gradient_boosting...\n",
      "Fitting 5 folds for each of 50 candidates, totalling 250 fits\n",
      "Best parameters: {'model__learning_rate': 0.15544899140769497, 'model__max_depth': 3, 'model__n_estimators': 100}\n",
      "Test Root Mean Squared Error: 20013.35088076693\n",
      "Evaluating xgboost...\n",
      "Fitting 5 folds for each of 50 candidates, totalling 250 fits\n",
      "Best parameters: {'model__learning_rate': 0.15544899140769497, 'model__max_depth': 3, 'model__n_estimators': 100}\n",
      "Test Root Mean Squared Error: 20124.398701720704\n",
      "Evaluating knn...\n",
      "Fitting 5 folds for each of 50 candidates, totalling 250 fits\n",
      "Best parameters: {'model__n_neighbors': 12, 'model__weights': 'uniform'}\n",
      "Test Root Mean Squared Error: 36038.04909697815\n",
      "Evaluating linear_regression...\n",
      "Test Root Mean Squared Error: 26809.419360673706\n"
     ]
    }
   ],
   "source": [
    "# Evaluate all models\n",
    "results = {}\n",
    "for name, pipeline in pipelines.items():\n",
    "    print(f\"Evaluating {name}...\")\n",
    "    best_model, test_rmse = evaluate_model(pipeline, param_grids[name], X_train, y_train, X_test, y_test)\n",
    "    results[name] = {'model': best_model, 'test_rmse': test_rmse}"
   ]
  },
  {
   "cell_type": "code",
   "execution_count": 7,
   "metadata": {},
   "outputs": [
    {
     "name": "stdout",
     "output_type": "stream",
     "text": [
      "Model: random_forest\n",
      "Test RMSE: 21138.47608715846\n",
      "\n",
      "Model: gradient_boosting\n",
      "Test RMSE: 20013.35088076693\n",
      "\n",
      "Model: xgboost\n",
      "Test RMSE: 20124.398701720704\n",
      "\n",
      "Model: knn\n",
      "Test RMSE: 36038.04909697815\n",
      "\n",
      "Model: linear_regression\n",
      "Test RMSE: 26809.419360673706\n",
      "\n"
     ]
    }
   ],
   "source": [
    "# Output the results\n",
    "for model_name, result in results.items():\n",
    "    print(f\"Model: {model_name}\")\n",
    "    print(f\"Test RMSE: {result['test_rmse']}\")\n",
    "    print()"
   ]
  },
  {
   "cell_type": "markdown",
   "metadata": {},
   "source": [
    "## EDA informed linear model\n",
    "\n",
    "In addition to the machine learning approach, I build a linear regression model based on the EDA completed, in addition to a few other linear regression models. From the model results we see that the linear regression model **C(round) * (remaining_avg + C(season))** has the best fit on the testing data, as it accounts for both the variation in round and season.\n",
    "\n",
    "However, since I would also like to incorporate this into my game simulator *without* asking the player specifying which season they would like to be in, I instead choose the **C(round) * remaining_avg** linear model as my preferred model since it has performance on par with the machine learning models that were previously developed and would be more consistent with the state of the game in the Deal or No Deal simulator."
   ]
  },
  {
   "cell_type": "code",
   "execution_count": 8,
   "metadata": {},
   "outputs": [],
   "source": [
    "data_train = pd.concat([y_train, X_train], axis=1)\n",
    "data_test = pd.concat([y_test, X_test], axis=1)"
   ]
  },
  {
   "cell_type": "code",
   "execution_count": 9,
   "metadata": {},
   "outputs": [],
   "source": [
    "def get_lm_test_rmse(formula, y_col='offer', train_data=data_train, test_data=data_test):\n",
    "    formula = f'{y_col} ~ {formula}'\n",
    "    model = smf.ols(formula=formula, data=train_data).fit()\n",
    "    rmse = np.sqrt(mean_squared_error(model.predict(test_data), test_data[y_col]))\n",
    "    return {'model' : model, 'test_rmse' : rmse}"
   ]
  },
  {
   "cell_type": "code",
   "execution_count": 10,
   "metadata": {},
   "outputs": [],
   "source": [
    "predictor_formulas = [\n",
    "    'C(round)',\n",
    "    'C(season)',\n",
    "    'remaining_avg',\n",
    "    'remaining_prop_right',\n",
    "    'remaining_prop_big',\n",
    "    'C(round) + remaining_avg',\n",
    "    'C(round) + remaining_prop_right',\n",
    "    'C(round) + remaining_prop_big',\n",
    "    'C(season) + remaining_avg',\n",
    "    'C(season) + remaining_prop_right',\n",
    "    'C(season) + remaining_prop_big',\n",
    "    'C(round) * remaining_avg', \n",
    "    'C(season) * remaining_avg',\n",
    "    'C(round) * (remaining_avg + C(season))',\n",
    "    'C(round) * C(season) * remaining_avg',\n",
    "]"
   ]
  },
  {
   "cell_type": "code",
   "execution_count": 11,
   "metadata": {},
   "outputs": [],
   "source": [
    "lm_results = {}\n",
    "for formula in predictor_formulas:\n",
    "    lm_results[formula] = get_lm_test_rmse(formula=formula)"
   ]
  },
  {
   "cell_type": "code",
   "execution_count": 12,
   "metadata": {},
   "outputs": [
    {
     "name": "stdout",
     "output_type": "stream",
     "text": [
      "Model formula: C(round)\n",
      "Test rmse: 78924.1467626125\n",
      "\n",
      "Model formula: C(season)\n",
      "Test rmse: 88371.11323174875\n",
      "\n",
      "Model formula: remaining_avg\n",
      "Test rmse: 45110.04060233342\n",
      "\n",
      "Model formula: remaining_prop_right\n",
      "Test rmse: 82901.58660567927\n",
      "\n",
      "Model formula: remaining_prop_big\n",
      "Test rmse: 67255.72782395205\n",
      "\n",
      "Model formula: C(round) + remaining_avg\n",
      "Test rmse: 27213.314252689812\n",
      "\n",
      "Model formula: C(round) + remaining_prop_right\n",
      "Test rmse: 75463.62602482301\n",
      "\n",
      "Model formula: C(round) + remaining_prop_big\n",
      "Test rmse: 58070.29702287716\n",
      "\n",
      "Model formula: C(season) + remaining_avg\n",
      "Test rmse: 44629.110217259826\n",
      "\n",
      "Model formula: C(season) + remaining_prop_right\n",
      "Test rmse: 83018.04470334775\n",
      "\n",
      "Model formula: C(season) + remaining_prop_big\n",
      "Test rmse: 67557.59873156357\n",
      "\n",
      "Model formula: C(round) * remaining_avg\n",
      "Test rmse: 20862.360493877335\n",
      "\n",
      "Model formula: C(season) * remaining_avg\n",
      "Test rmse: 44719.794120515086\n",
      "\n",
      "Model formula: C(round) * (remaining_avg + C(season))\n",
      "Test rmse: 19978.967131002388\n",
      "\n",
      "Model formula: C(round) * C(season) * remaining_avg\n",
      "Test rmse: 20728.163041057705\n",
      "\n"
     ]
    }
   ],
   "source": [
    "for formula in lm_results:\n",
    "    print(f\"Model formula: {formula}\")\n",
    "    print(f\"Test rmse: {lm_results[formula]['test_rmse']}\")\n",
    "    print()"
   ]
  },
  {
   "cell_type": "markdown",
   "metadata": {},
   "source": [
    "### Interpretting the model output\n",
    "\n",
    "With the preferred model selected, let us take some time to understand some of the relationships found in the data. One significant benefit of using a linear regression model is its interpretability, and the statsmodels object provides a detailed and well-formatted summary. Overall, the model performs well for predictive purposes, but additional transformations to the data may be required to satisfy the linear regression modeling assumptions needed for statistical inference.\n",
    "\n",
    "In symbolic notation, here is our model:\n",
    "\n",
    "$offer$ = $\\beta_{0}$ + $\\Sigma_{j=1}^8\\beta_{i}$ $I(round_{i})$ + $\\beta_{9}$ $remainingavg$ + $\\Sigma_{i=10}^{17}\\beta_{i}$  $I(round_{i})$ * $remainingavg$\n",
    "\n",
    "Beginning first with the degrees of freedom, we see that in addition to the intercept 17 coefficients were generated: One for each round (dropping the first round to avoid multicollinearity), one for the *remaining average* variable, and one for the interaction between the round and remaining average. A benefit of this model is that the number of coefficients will remain constant even as more game data are added, and the estimates of the parameters would like improve with more data. Looking next at the R-squared/adjusted R-squared, we see that 96% of the variation in the offer is explained by our model from the data it was trained on, even when accounting for the penalty for having many coefficients. Similarly, the probability of the F-statistic being basically 0 illustrates that our model is a statistically significant improvement over the null model i.e. using the average banker offer to estimate all offers. AIC, BIC, and Log-Likelihood are good model comparison tools for variable selection across linear regression models but are less useful for comparing model performance on unseen data since they are calculating from the data the model is trained on, so I will ignore them.\n",
    "\n",
    "Next interpretting the parameter estimates, we see that the round coefficients and the intercept are not statistically significantly different from 0, which seems reasonable for our data based on the range of values that the offer can take on. The slope coefficient for remaining_avg and the interaction between the remaining_avg and the game round are all statistically significantly different from 0 with the exception of the interaction between remaining_avg and round 2. Based on the model, we can interpret the coefficients of the interaction terms as the difference in the slope between round 1 and the round of interest. The slope difference between rounds 1 and 2 is not statistically significantly different from 0, so the slopes are about the same, as the coefficient (0.0313) is generally smaller than the interaction term coefficient for any other round; in other words, for similar remaining values on the board, the first and second round offer are likely not going to be very different. \n",
    "\n",
    "Finally, the residual plots show us whether the model assumptions are reasonably satisfied to answer the question of interpretting whether the coefficients are statistically significant. The residuals vs fitted plot shows that there is a relationship between the estimated value and the error term, suggesting that the homoscedasiticty assumption may be violated; that is, the variation in the residuals is a function of the covariate values. Some outlier datapoints may be driving this behavior, based on the distance between the residual and zero. Additionally, the QQ-plot shows some deviation from the 45 degree line at the tails, suggesting that the residuals are not normally distributed."
   ]
  },
  {
   "cell_type": "code",
   "execution_count": 13,
   "metadata": {},
   "outputs": [
    {
     "data": {
      "text/html": [
       "<table class=\"simpletable\">\n",
       "<caption>OLS Regression Results</caption>\n",
       "<tr>\n",
       "  <th>Dep. Variable:</th>          <td>offer</td>      <th>  R-squared:         </th> <td>   0.961</td> \n",
       "</tr>\n",
       "<tr>\n",
       "  <th>Model:</th>                   <td>OLS</td>       <th>  Adj. R-squared:    </th> <td>   0.960</td> \n",
       "</tr>\n",
       "<tr>\n",
       "  <th>Method:</th>             <td>Least Squares</td>  <th>  F-statistic:       </th> <td>   1120.</td> \n",
       "</tr>\n",
       "<tr>\n",
       "  <th>Date:</th>             <td>Sun, 11 Aug 2024</td> <th>  Prob (F-statistic):</th>  <td>  0.00</td>  \n",
       "</tr>\n",
       "<tr>\n",
       "  <th>Time:</th>                 <td>19:41:01</td>     <th>  Log-Likelihood:    </th> <td> -8989.7</td> \n",
       "</tr>\n",
       "<tr>\n",
       "  <th>No. Observations:</th>      <td>   794</td>      <th>  AIC:               </th> <td>1.802e+04</td>\n",
       "</tr>\n",
       "<tr>\n",
       "  <th>Df Residuals:</th>          <td>   776</td>      <th>  BIC:               </th> <td>1.810e+04</td>\n",
       "</tr>\n",
       "<tr>\n",
       "  <th>Df Model:</th>              <td>    17</td>      <th>                     </th>     <td> </td>    \n",
       "</tr>\n",
       "<tr>\n",
       "  <th>Covariance Type:</th>      <td>nonrobust</td>    <th>                     </th>     <td> </td>    \n",
       "</tr>\n",
       "</table>\n",
       "<table class=\"simpletable\">\n",
       "<tr>\n",
       "               <td></td>                  <th>coef</th>     <th>std err</th>      <th>t</th>      <th>P>|t|</th>  <th>[0.025</th>    <th>0.975]</th>  \n",
       "</tr>\n",
       "<tr>\n",
       "  <th>Intercept</th>                   <td>-1.249e+04</td> <td> 1.01e+04</td> <td>   -1.235</td> <td> 0.217</td> <td>-3.23e+04</td> <td> 7361.428</td>\n",
       "</tr>\n",
       "<tr>\n",
       "  <th>C(round)[T.2]</th>               <td> 1.103e+04</td> <td> 1.23e+04</td> <td>    0.896</td> <td> 0.370</td> <td>-1.31e+04</td> <td> 3.52e+04</td>\n",
       "</tr>\n",
       "<tr>\n",
       "  <th>C(round)[T.3]</th>               <td> 4410.7721</td> <td> 1.14e+04</td> <td>    0.387</td> <td> 0.699</td> <td> -1.8e+04</td> <td> 2.68e+04</td>\n",
       "</tr>\n",
       "<tr>\n",
       "  <th>C(round)[T.4]</th>               <td> 5636.4245</td> <td>  1.1e+04</td> <td>    0.514</td> <td> 0.608</td> <td>-1.59e+04</td> <td> 2.72e+04</td>\n",
       "</tr>\n",
       "<tr>\n",
       "  <th>C(round)[T.5]</th>               <td> 9194.8588</td> <td> 1.08e+04</td> <td>    0.854</td> <td> 0.394</td> <td>-1.19e+04</td> <td> 3.03e+04</td>\n",
       "</tr>\n",
       "<tr>\n",
       "  <th>C(round)[T.6]</th>               <td> 1.185e+04</td> <td> 1.07e+04</td> <td>    1.104</td> <td> 0.270</td> <td>-9225.929</td> <td> 3.29e+04</td>\n",
       "</tr>\n",
       "<tr>\n",
       "  <th>C(round)[T.7]</th>               <td> 8785.8420</td> <td> 1.06e+04</td> <td>    0.825</td> <td> 0.409</td> <td>-1.21e+04</td> <td> 2.97e+04</td>\n",
       "</tr>\n",
       "<tr>\n",
       "  <th>C(round)[T.8]</th>               <td> 7202.0842</td> <td> 1.06e+04</td> <td>    0.680</td> <td> 0.496</td> <td>-1.36e+04</td> <td>  2.8e+04</td>\n",
       "</tr>\n",
       "<tr>\n",
       "  <th>C(round)[T.9]</th>               <td> 1.028e+04</td> <td> 1.08e+04</td> <td>    0.948</td> <td> 0.343</td> <td> -1.1e+04</td> <td> 3.16e+04</td>\n",
       "</tr>\n",
       "<tr>\n",
       "  <th>remaining_avg</th>               <td>    0.2815</td> <td>    0.075</td> <td>    3.777</td> <td> 0.000</td> <td>    0.135</td> <td>    0.428</td>\n",
       "</tr>\n",
       "<tr>\n",
       "  <th>C(round)[T.2]:remaining_avg</th> <td>    0.0313</td> <td>    0.090</td> <td>    0.348</td> <td> 0.728</td> <td>   -0.145</td> <td>    0.208</td>\n",
       "</tr>\n",
       "<tr>\n",
       "  <th>C(round)[T.3]:remaining_avg</th> <td>    0.2225</td> <td>    0.083</td> <td>    2.673</td> <td> 0.008</td> <td>    0.059</td> <td>    0.386</td>\n",
       "</tr>\n",
       "<tr>\n",
       "  <th>C(round)[T.4]:remaining_avg</th> <td>    0.3156</td> <td>    0.080</td> <td>    3.962</td> <td> 0.000</td> <td>    0.159</td> <td>    0.472</td>\n",
       "</tr>\n",
       "<tr>\n",
       "  <th>C(round)[T.5]:remaining_avg</th> <td>    0.3792</td> <td>    0.078</td> <td>    4.840</td> <td> 0.000</td> <td>    0.225</td> <td>    0.533</td>\n",
       "</tr>\n",
       "<tr>\n",
       "  <th>C(round)[T.6]:remaining_avg</th> <td>    0.4656</td> <td>    0.078</td> <td>    5.999</td> <td> 0.000</td> <td>    0.313</td> <td>    0.618</td>\n",
       "</tr>\n",
       "<tr>\n",
       "  <th>C(round)[T.7]:remaining_avg</th> <td>    0.6333</td> <td>    0.077</td> <td>    8.232</td> <td> 0.000</td> <td>    0.482</td> <td>    0.784</td>\n",
       "</tr>\n",
       "<tr>\n",
       "  <th>C(round)[T.8]:remaining_avg</th> <td>    0.7200</td> <td>    0.076</td> <td>    9.472</td> <td> 0.000</td> <td>    0.571</td> <td>    0.869</td>\n",
       "</tr>\n",
       "<tr>\n",
       "  <th>C(round)[T.9]:remaining_avg</th> <td>    0.7713</td> <td>    0.076</td> <td>   10.155</td> <td> 0.000</td> <td>    0.622</td> <td>    0.920</td>\n",
       "</tr>\n",
       "</table>\n",
       "<table class=\"simpletable\">\n",
       "<tr>\n",
       "  <th>Omnibus:</th>       <td>90.887</td> <th>  Durbin-Watson:     </th> <td>   2.063</td> \n",
       "</tr>\n",
       "<tr>\n",
       "  <th>Prob(Omnibus):</th> <td> 0.000</td> <th>  Jarque-Bera (JB):  </th> <td> 478.241</td> \n",
       "</tr>\n",
       "<tr>\n",
       "  <th>Skew:</th>          <td> 0.357</td> <th>  Prob(JB):          </th> <td>1.42e-104</td>\n",
       "</tr>\n",
       "<tr>\n",
       "  <th>Kurtosis:</th>      <td> 6.734</td> <th>  Cond. No.          </th> <td>7.69e+06</td> \n",
       "</tr>\n",
       "</table><br/><br/>Notes:<br/>[1] Standard Errors assume that the covariance matrix of the errors is correctly specified.<br/>[2] The condition number is large, 7.69e+06. This might indicate that there are<br/>strong multicollinearity or other numerical problems."
      ],
      "text/latex": [
       "\\begin{center}\n",
       "\\begin{tabular}{lclc}\n",
       "\\toprule\n",
       "\\textbf{Dep. Variable:}               &      offer       & \\textbf{  R-squared:         } &     0.961   \\\\\n",
       "\\textbf{Model:}                       &       OLS        & \\textbf{  Adj. R-squared:    } &     0.960   \\\\\n",
       "\\textbf{Method:}                      &  Least Squares   & \\textbf{  F-statistic:       } &     1120.   \\\\\n",
       "\\textbf{Date:}                        & Sun, 11 Aug 2024 & \\textbf{  Prob (F-statistic):} &     0.00    \\\\\n",
       "\\textbf{Time:}                        &     19:41:01     & \\textbf{  Log-Likelihood:    } &   -8989.7   \\\\\n",
       "\\textbf{No. Observations:}            &         794      & \\textbf{  AIC:               } & 1.802e+04   \\\\\n",
       "\\textbf{Df Residuals:}                &         776      & \\textbf{  BIC:               } & 1.810e+04   \\\\\n",
       "\\textbf{Df Model:}                    &          17      & \\textbf{                     } &             \\\\\n",
       "\\textbf{Covariance Type:}             &    nonrobust     & \\textbf{                     } &             \\\\\n",
       "\\bottomrule\n",
       "\\end{tabular}\n",
       "\\begin{tabular}{lcccccc}\n",
       "                                      & \\textbf{coef} & \\textbf{std err} & \\textbf{t} & \\textbf{P$> |$t$|$} & \\textbf{[0.025} & \\textbf{0.975]}  \\\\\n",
       "\\midrule\n",
       "\\textbf{Intercept}                    &   -1.249e+04  &     1.01e+04     &    -1.235  &         0.217        &    -3.23e+04    &     7361.428     \\\\\n",
       "\\textbf{C(round)[T.2]}                &    1.103e+04  &     1.23e+04     &     0.896  &         0.370        &    -1.31e+04    &     3.52e+04     \\\\\n",
       "\\textbf{C(round)[T.3]}                &    4410.7721  &     1.14e+04     &     0.387  &         0.699        &     -1.8e+04    &     2.68e+04     \\\\\n",
       "\\textbf{C(round)[T.4]}                &    5636.4245  &      1.1e+04     &     0.514  &         0.608        &    -1.59e+04    &     2.72e+04     \\\\\n",
       "\\textbf{C(round)[T.5]}                &    9194.8588  &     1.08e+04     &     0.854  &         0.394        &    -1.19e+04    &     3.03e+04     \\\\\n",
       "\\textbf{C(round)[T.6]}                &    1.185e+04  &     1.07e+04     &     1.104  &         0.270        &    -9225.929    &     3.29e+04     \\\\\n",
       "\\textbf{C(round)[T.7]}                &    8785.8420  &     1.06e+04     &     0.825  &         0.409        &    -1.21e+04    &     2.97e+04     \\\\\n",
       "\\textbf{C(round)[T.8]}                &    7202.0842  &     1.06e+04     &     0.680  &         0.496        &    -1.36e+04    &      2.8e+04     \\\\\n",
       "\\textbf{C(round)[T.9]}                &    1.028e+04  &     1.08e+04     &     0.948  &         0.343        &     -1.1e+04    &     3.16e+04     \\\\\n",
       "\\textbf{remaining\\_avg}               &       0.2815  &        0.075     &     3.777  &         0.000        &        0.135    &        0.428     \\\\\n",
       "\\textbf{C(round)[T.2]:remaining\\_avg} &       0.0313  &        0.090     &     0.348  &         0.728        &       -0.145    &        0.208     \\\\\n",
       "\\textbf{C(round)[T.3]:remaining\\_avg} &       0.2225  &        0.083     &     2.673  &         0.008        &        0.059    &        0.386     \\\\\n",
       "\\textbf{C(round)[T.4]:remaining\\_avg} &       0.3156  &        0.080     &     3.962  &         0.000        &        0.159    &        0.472     \\\\\n",
       "\\textbf{C(round)[T.5]:remaining\\_avg} &       0.3792  &        0.078     &     4.840  &         0.000        &        0.225    &        0.533     \\\\\n",
       "\\textbf{C(round)[T.6]:remaining\\_avg} &       0.4656  &        0.078     &     5.999  &         0.000        &        0.313    &        0.618     \\\\\n",
       "\\textbf{C(round)[T.7]:remaining\\_avg} &       0.6333  &        0.077     &     8.232  &         0.000        &        0.482    &        0.784     \\\\\n",
       "\\textbf{C(round)[T.8]:remaining\\_avg} &       0.7200  &        0.076     &     9.472  &         0.000        &        0.571    &        0.869     \\\\\n",
       "\\textbf{C(round)[T.9]:remaining\\_avg} &       0.7713  &        0.076     &    10.155  &         0.000        &        0.622    &        0.920     \\\\\n",
       "\\bottomrule\n",
       "\\end{tabular}\n",
       "\\begin{tabular}{lclc}\n",
       "\\textbf{Omnibus:}       & 90.887 & \\textbf{  Durbin-Watson:     } &     2.063  \\\\\n",
       "\\textbf{Prob(Omnibus):} &  0.000 & \\textbf{  Jarque-Bera (JB):  } &   478.241  \\\\\n",
       "\\textbf{Skew:}          &  0.357 & \\textbf{  Prob(JB):          } & 1.42e-104  \\\\\n",
       "\\textbf{Kurtosis:}      &  6.734 & \\textbf{  Cond. No.          } &  7.69e+06  \\\\\n",
       "\\bottomrule\n",
       "\\end{tabular}\n",
       "%\\caption{OLS Regression Results}\n",
       "\\end{center}\n",
       "\n",
       "Notes: \\newline\n",
       " [1] Standard Errors assume that the covariance matrix of the errors is correctly specified. \\newline\n",
       " [2] The condition number is large, 7.69e+06. This might indicate that there are \\newline\n",
       " strong multicollinearity or other numerical problems."
      ],
      "text/plain": [
       "<class 'statsmodels.iolib.summary.Summary'>\n",
       "\"\"\"\n",
       "                            OLS Regression Results                            \n",
       "==============================================================================\n",
       "Dep. Variable:                  offer   R-squared:                       0.961\n",
       "Model:                            OLS   Adj. R-squared:                  0.960\n",
       "Method:                 Least Squares   F-statistic:                     1120.\n",
       "Date:                Sun, 11 Aug 2024   Prob (F-statistic):               0.00\n",
       "Time:                        19:41:01   Log-Likelihood:                -8989.7\n",
       "No. Observations:                 794   AIC:                         1.802e+04\n",
       "Df Residuals:                     776   BIC:                         1.810e+04\n",
       "Df Model:                          17                                         \n",
       "Covariance Type:            nonrobust                                         \n",
       "===============================================================================================\n",
       "                                  coef    std err          t      P>|t|      [0.025      0.975]\n",
       "-----------------------------------------------------------------------------------------------\n",
       "Intercept                   -1.249e+04   1.01e+04     -1.235      0.217   -3.23e+04    7361.428\n",
       "C(round)[T.2]                1.103e+04   1.23e+04      0.896      0.370   -1.31e+04    3.52e+04\n",
       "C(round)[T.3]                4410.7721   1.14e+04      0.387      0.699    -1.8e+04    2.68e+04\n",
       "C(round)[T.4]                5636.4245    1.1e+04      0.514      0.608   -1.59e+04    2.72e+04\n",
       "C(round)[T.5]                9194.8588   1.08e+04      0.854      0.394   -1.19e+04    3.03e+04\n",
       "C(round)[T.6]                1.185e+04   1.07e+04      1.104      0.270   -9225.929    3.29e+04\n",
       "C(round)[T.7]                8785.8420   1.06e+04      0.825      0.409   -1.21e+04    2.97e+04\n",
       "C(round)[T.8]                7202.0842   1.06e+04      0.680      0.496   -1.36e+04     2.8e+04\n",
       "C(round)[T.9]                1.028e+04   1.08e+04      0.948      0.343    -1.1e+04    3.16e+04\n",
       "remaining_avg                   0.2815      0.075      3.777      0.000       0.135       0.428\n",
       "C(round)[T.2]:remaining_avg     0.0313      0.090      0.348      0.728      -0.145       0.208\n",
       "C(round)[T.3]:remaining_avg     0.2225      0.083      2.673      0.008       0.059       0.386\n",
       "C(round)[T.4]:remaining_avg     0.3156      0.080      3.962      0.000       0.159       0.472\n",
       "C(round)[T.5]:remaining_avg     0.3792      0.078      4.840      0.000       0.225       0.533\n",
       "C(round)[T.6]:remaining_avg     0.4656      0.078      5.999      0.000       0.313       0.618\n",
       "C(round)[T.7]:remaining_avg     0.6333      0.077      8.232      0.000       0.482       0.784\n",
       "C(round)[T.8]:remaining_avg     0.7200      0.076      9.472      0.000       0.571       0.869\n",
       "C(round)[T.9]:remaining_avg     0.7713      0.076     10.155      0.000       0.622       0.920\n",
       "==============================================================================\n",
       "Omnibus:                       90.887   Durbin-Watson:                   2.063\n",
       "Prob(Omnibus):                  0.000   Jarque-Bera (JB):              478.241\n",
       "Skew:                           0.357   Prob(JB):                    1.42e-104\n",
       "Kurtosis:                       6.734   Cond. No.                     7.69e+06\n",
       "==============================================================================\n",
       "\n",
       "Notes:\n",
       "[1] Standard Errors assume that the covariance matrix of the errors is correctly specified.\n",
       "[2] The condition number is large, 7.69e+06. This might indicate that there are\n",
       "strong multicollinearity or other numerical problems.\n",
       "\"\"\""
      ]
     },
     "execution_count": 13,
     "metadata": {},
     "output_type": "execute_result"
    }
   ],
   "source": [
    "final_model = lm_results['C(round) * remaining_avg']['model']\n",
    "final_model.summary()"
   ]
  },
  {
   "cell_type": "code",
   "execution_count": 37,
   "metadata": {},
   "outputs": [],
   "source": [
    "with open('lm_results.tex', 'w') as f:\n",
    "    f.write(final_model.summary().as_latex())"
   ]
  },
  {
   "cell_type": "code",
   "execution_count": 31,
   "metadata": {},
   "outputs": [
    {
     "data": {
      "image/png": "[encoded data removed]",
      "text/plain": [
       "<Figure size 640x480 with 1 Axes>"
      ]
     },
     "metadata": {},
     "output_type": "display_data"
    }
   ],
   "source": [
    "fitted_values = final_model.fittedvalues\n",
    "residuals = final_model.resid\n",
    "\n",
    "# Residuals vs Fitted\n",
    "sns.scatterplot(x=fitted_values, y=residuals)\n",
    "plt.axhline(0, linestyle='--', color='red')\n",
    "plt.xlabel('Fitted values')\n",
    "plt.ylabel('Residuals')\n",
    "plt.title('Residuals vs Fitted')\n",
    "# plt.savefig('res_v_fit.png')\n",
    "plt.show()"
   ]
  },
  {
   "cell_type": "code",
   "execution_count": 32,
   "metadata": {},
   "outputs": [
    {
     "data": {
      "image/png": "[encoded data removed]",
      "text/plain": [
       "<Figure size 640x480 with 1 Axes>"
      ]
     },
     "metadata": {},
     "output_type": "display_data"
    }
   ],
   "source": [
    "# QQ Plot\n",
    "sm.qqplot(residuals, line ='45', fit=True)\n",
    "plt.title('Normal Q-Q')\n",
    "# plt.savefig('qq_plot.png')\n",
    "plt.show()"
   ]
  },
  {
   "cell_type": "code",
   "execution_count": 15,
   "metadata": {},
   "outputs": [],
   "source": [
    "with open('../game/dond_lm_model.pkl', 'wb') as f:\n",
    "    pickle.dump(final_model, f)"
   ]
  },
  {
   "cell_type": "markdown",
   "metadata": {},
   "source": [
    "#### Simulating from the model\n",
    "\n",
    "Linear regression model can predict and extrapolate based on the inputs to the model. This allows the model to make predictions even on values from predictors that it was not trained on, although the validity of these extrapolations will depend on whether you think it is appropriate to assume a linear relationship between the predictor variables and the outcome variable still exists for these values. That being said, lets try simulating some data and passing it through the model to see what results we get. Since these are average predictions, the expected value of the offer for a given input will not have the same level of rounding usually offered in the game i.e. 106000 vs 105743.27.\n",
    "\n",
    "One quirk of using the model is that the expected value prediction can occasionally be negative based on input values. These combination of inputs become more common as the game goes on, where, based on the model coefficients, the remaining average value may not be sufficiently large to exceed the intercept, even when multiplied by the round's slope. I've included some simulations below as an example of the potentially unintended side-effects of using this model during the Deal or No Deal simulation game."
   ]
  },
  {
   "cell_type": "code",
   "execution_count": 16,
   "metadata": {},
   "outputs": [
    {
     "name": "stdout",
     "output_type": "stream",
     "text": [
      "Iteration: 0, Round: 6, Remaining Average: 163418.8, Predicted Offer: 121451.97964274883\n",
      "Iteration: 20, Round: 9, Remaining Average: 134170.55049999998, Predicted Offer: 139050.8623594858\n",
      "Iteration: 26, Round: 1, Remaining Average: 55.0, Predicted Offer: -12475.123829350176\n",
      "Iteration: 35, Round: 1, Remaining Average: 40873.125, Predicted Offer: -984.4220610518769\n",
      "Iteration: 40, Round: 4, Remaining Average: 168291.00090909092, Predicted Offer: 93636.51103625906\n",
      "Iteration: 54, Round: 9, Remaining Average: 102.5, Predicted Offer: -2102.0954610797394\n",
      "Iteration: 60, Round: 8, Remaining Average: 148783.18181818182, Predicted Offer: 143721.28667619237\n",
      "Iteration: 62, Round: 1, Remaining Average: 40083.2, Predicted Offer: -1206.7936813632714\n",
      "Iteration: 80, Round: 2, Remaining Average: 222825.5463636364, Predicted Offer: 68241.91340060196\n",
      "Iteration: 87, Round: 3, Remaining Average: 201.0, Predicted Offer: -7978.526242757426\n"
     ]
    }
   ],
   "source": [
    "np.random.seed(0)\n",
    "n_sims = 1000\n",
    "counter = 0\n",
    "for i, t in enumerate(zip(np.random.randint(1, 9+1, n_sims), np.random.choice(a=modeling_data['remaining_avg'], size=n_sims))):\n",
    "    sim_pred = final_model.predict({'round' : t[0], 'remaining_avg' : t[1]}).iloc[0]\n",
    "    if sim_pred < 0 or i % 20 == 0:\n",
    "        print(f'Iteration: {i}, Round: {t[0]}, Remaining Average: {t[1]}, Predicted Offer: {sim_pred}')\n",
    "        counter += 1\n",
    "    if counter >= 10:\n",
    "        break"
   ]
  },
  {
   "cell_type": "markdown",
   "metadata": {},
   "source": [
    "\n",
    "#### Banker offer generator\n",
    "\n",
    "Because of the potential for negative banker offers with the linear regression model, I create a method that samples the observations from the existing data in order to generate a banker offer that is guaranteed to not be negative. The offer bootstraps the data based on the round and remaining average value left on the board for the player."
   ]
  },
  {
   "cell_type": "code",
   "execution_count": 17,
   "metadata": {},
   "outputs": [],
   "source": [
    "## generating the model dictionary to filter during the game\n",
    "tuple_sort = lambda l: tuple(sorted(l))\n",
    "offer_ratio_dict = data.query('offer.notnull()').groupby('round')['offer_avg_ratio'].apply(tuple_sort).to_dict()\n",
    "remaining_avg_dict = data.query('offer.notnull()').groupby('round')['remaining_avg'].apply(tuple_sort).to_dict()\n",
    "model_dict = {k : {'remaining_avg' : remaining_avg_dict[k], 'offer_avg_ratio' : offer_ratio_dict[k]} for k in remaining_avg_dict}"
   ]
  },
  {
   "cell_type": "code",
   "execution_count": 18,
   "metadata": {},
   "outputs": [],
   "source": [
    "with open('../game/dond_dict_model.pkl', 'wb') as f:\n",
    "    pickle.dump(model_dict, f)"
   ]
  }
 ],
 "metadata": {
  "kernelspec": {
   "display_name": "Python 3",
   "language": "python",
   "name": "python3"
  },
  "language_info": {
   "codemirror_mode": {
    "name": "ipython",
    "version": 3
   },
   "file_extension": ".py",
   "mimetype": "text/x-python",
   "name": "python",
   "nbconvert_exporter": "python",
   "pygments_lexer": "ipython3",
   "version": "3.11.5"
  }
 },
 "nbformat": 4,
 "nbformat_minor": 2
}
