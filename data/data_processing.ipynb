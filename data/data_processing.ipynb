{
 "cells": [
  {
   "cell_type": "markdown",
   "metadata": {},
   "source": [
    "# Data processing\n",
    "\n",
    "The goal of this notebook is to process and manipulate the data in order to engineer features for exploration and modeling of the banker's offers. While the data is not completed structured in a tidy format based on the rules of the game (contestants may or may not take deals, the host may let the contestant continue selecting cases after a deal has been made, etc.), the relevant data points for this analysis will be at the game-round data. I will therefore manipulate the data to this level, as well as keeping track of both selected and remaining cases at the end of each round for each game in a list; while the data is no longer 'tidy' in the traditional sense (multiple values in a single cell), it permits me to aggregate the values within the cell at that point in the game more easily. My intuition from watching games suggests that there is a relationship between the remaining values on the board and the offer."
   ]
  },
  {
   "cell_type": "code",
   "execution_count": 31,
   "metadata": {},
   "outputs": [],
   "source": [
    "import pandas as pd\n",
    "import numpy as np"
   ]
  },
  {
   "cell_type": "code",
   "execution_count": 32,
   "metadata": {},
   "outputs": [],
   "source": [
    "games = pd.read_csv('games.csv')\n",
    "case_values = pd.read_csv('case_values.csv')\n",
    "contestants = pd.read_csv('contestants.csv')"
   ]
  },
  {
   "cell_type": "code",
   "execution_count": null,
   "metadata": {},
   "outputs": [],
   "source": [
    "def create_lists_value(lst):\n",
    "    '''Creates a list within the cell that includes all values selected up to that poin in the game'''\n",
    "    return [list(lst[:i+1]) for i in range(len(lst))]"
   ]
  },
  {
   "cell_type": "code",
   "execution_count": null,
   "metadata": {},
   "outputs": [],
   "source": [
    "games['filter_column'] = games.groupby(['ID', 'round'])['round_turn'].rank(method='first', ascending=False) == 1\n",
    "games['selected_values'] = games.sort_values(['ID', 'round', 'round_turn']).groupby('ID')['value'].apply(create_lists_value).explode().reset_index()['value']\n",
    "games['remaining_values'] = games.apply(lambda x: sorted(set(case_values_list) - set(x['selected_values'])), axis=1)"
   ]
  },
  {
   "cell_type": "code",
   "execution_count": null,
   "metadata": {},
   "outputs": [],
   "source": [
    "original_case_values = games.query('original_case.notnull()')[['ID', 'value']].rename(columns={'value' :'original_case_value'})"
   ]
  },
  {
   "cell_type": "code",
   "execution_count": null,
   "metadata": {},
   "outputs": [],
   "source": [
    "round_data = games.query('filter_column')[['ID', 'round', 'offer', 'decision_made', 'winnings', 'original_case', 'selected_values', 'remaining_values']]\n",
    "round_data = round_data.merge(original_case_values, on='ID')"
   ]
  },
  {
   "cell_type": "code",
   "execution_count": null,
   "metadata": {},
   "outputs": [],
   "source": [
    "## safely calculating values from lists embedded within cells\n",
    "def safe_average(lst):\n",
    "    if lst:\n",
    "        try:\n",
    "            value = sum(lst) / len(lst)\n",
    "        except ZeroDivisionError:\n",
    "            value = 0\n",
    "    else:\n",
    "        value = None\n",
    "    return value\n",
    "\n",
    "def safe_count_threshold(lst, threshold):\n",
    "    if lst:\n",
    "        value = len([x for x in lst if x >= threshold])\n",
    "    else:\n",
    "        value = None\n",
    "    return value\n",
    "\n",
    "def safe_prop_threshold(lst, threshold):\n",
    "    if lst:\n",
    "        try:\n",
    "            value = len([x for x in lst if x >= threshold]) / len(lst)\n",
    "        except ZeroDivisionError:\n",
    "            value = 0\n",
    "    else:\n",
    "        value = None\n",
    "    return value\n"
   ]
  },
  {
   "cell_type": "code",
   "execution_count": null,
   "metadata": {},
   "outputs": [],
   "source": [
    "round_data['remaining_avg'] = round_data['remaining_values'].apply(safe_average)\n",
    "round_data['remaining_count_right'] = round_data['remaining_values'].apply(safe_count_threshold, args=(1_000,))\n",
    "round_data['remaining_count_big'] = round_data['remaining_values'].apply(safe_count_threshold, args=(100_000,))\n",
    "round_data['remaining_prop_right'] = round_data['remaining_values'].apply(safe_prop_threshold, args=(1_000,))\n",
    "round_data['remaining_prop_big'] = round_data['remaining_values'].apply(safe_prop_threshold, args=(100_000,))\n",
    "round_data['offer_avg_ratio'] = round_data['offer'].div(round_data['remaining_avg'])"
   ]
  },
  {
   "cell_type": "code",
   "execution_count": null,
   "metadata": {},
   "outputs": [],
   "source": [
    "## adding demographic data\n",
    "round_data = round_data.merge(contestants[['ID', 'season', 'episode', 'gender', 'race']], on='ID')"
   ]
  },
  {
   "cell_type": "code",
   "execution_count": null,
   "metadata": {},
   "outputs": [],
   "source": [
    "round_data.head()"
   ]
  },
  {
   "cell_type": "code",
   "execution_count": null,
   "metadata": {},
   "outputs": [],
   "source": [
    "# round_data.to_csv('dond_processed_data.csv', index=False)"
   ]
  }
 ],
 "metadata": {
  "kernelspec": {
   "display_name": "Python 3",
   "language": "python",
   "name": "python3"
  },
  "language_info": {
   "codemirror_mode": {
    "name": "ipython",
    "version": 3
   },
   "file_extension": ".py",
   "mimetype": "text/x-python",
   "name": "python",
   "nbconvert_exporter": "python",
   "pygments_lexer": "ipython3",
   "version": "3.11.5"
  }
 },
 "nbformat": 4,
 "nbformat_minor": 2
}
