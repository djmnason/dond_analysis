{
 "cells": [
  {
   "cell_type": "markdown",
   "id": "951fd1ae-0628-4347-bd5a-ecf8a3ad0284",
   "metadata": {},
   "source": [
    "# setup for data collection"
   ]
  },
  {
   "cell_type": "markdown",
   "id": "ab6f2fe7-26f1-4aca-8aac-7d0753255d57",
   "metadata": {},
   "source": [
    "### web scraping metadata from IMDB"
   ]
  },
  {
   "cell_type": "code",
   "execution_count": null,
   "id": "9704521b",
   "metadata": {},
   "outputs": [],
   "source": [
    "from selenium import webdriver\n",
    "from selenium.webdriver.common.by import By\n",
    "from selenium.webdriver.support.ui import WebDriverWait\n",
    "from selenium.webdriver.support import expected_conditions as EC\n",
    "from selenium.common.exceptions import ElementClickInterceptedException, TimeoutException, NoSuchElementException, StaleElementReferenceException\n",
    "from datetime import datetime\n",
    "import re\n",
    "import time\n",
    "import pandas as pd\n",
    "import numpy as np"
   ]
  },
  {
   "cell_type": "code",
   "execution_count": null,
   "id": "d81359c6",
   "metadata": {},
   "outputs": [],
   "source": [
    "# Web scraping paths\n",
    "url = 'https://www.imdb.com/title/tt0493378/episodes/?season=1'\n",
    "num_seasons = 5\n",
    "chrome_options = webdriver.ChromeOptions()\n",
    "prefs = {\n",
    "    \"download.prompt_for_download\": False,  # Disable download prompt\n",
    "    \"download.directory_upgrade\": True,\n",
    "    \"safebrowsing.enabled\": True,  # Disable safe browsing\n",
    "}\n",
    "chrome_options.add_experimental_option(\"prefs\", prefs)\n",
    "\n",
    "driver = webdriver.Chrome(options=chrome_options)\n",
    "driver.get(url)\n",
    "time.sleep(1)\n",
    "\n",
    "# XPaths\n",
    "articles_xpath = '//*[@id=\"__next\"]/main/div/section/div/section/div/div[1]/section[2]/section[2]/article'\n",
    "episode_text_xpath = './/*[@class=\"ipc-title__text\"]'\n",
    "episode_date_xpath = './/span'\n",
    "dropdown_button_xpath = './/div/span[1]/button'\n",
    "next_season_button_xpath = '//*[@id=\"next-season-btn\"]'"
   ]
  },
  {
   "cell_type": "code",
   "execution_count": null,
   "id": "4ce8bf66",
   "metadata": {},
   "outputs": [],
   "source": [
    "def try_to_click_dropdown(article, path=dropdown_button_xpath):\n",
    "    try:\n",
    "        time.sleep(2)\n",
    "        button = article.find_element(By.XPATH, path)\n",
    "        button.click()\n",
    "        return True\n",
    "    except NoSuchElementException:\n",
    "        print('No dropdown on this page.')\n",
    "        return True\n",
    "    except TimeoutException:\n",
    "        print('No dropdown timeout')\n",
    "        return True\n",
    "    except ElementClickInterceptedException:\n",
    "        print('Intercepted exception')\n",
    "        return False\n",
    "    except StaleElementReferenceException:\n",
    "        print('Stale element reference, re-trying...')\n",
    "        return False\n",
    "\n",
    "def try_to_click_next_page(path=next_season_button_xpath):\n",
    "    next_page_button = driver.find_element(By.XPATH, path)\n",
    "    driver.execute_script(\"arguments[0].scrollIntoView(true);\", next_page_button)\n",
    "    try:\n",
    "        time.sleep(2)\n",
    "        next_page_button.click()\n",
    "        return True\n",
    "    except ElementClickInterceptedException:\n",
    "        print('Element intercept')\n",
    "        return False\n",
    "    except StaleElementReferenceException:\n",
    "        print('Stale element reference, re-trying...')\n",
    "        return False\n",
    "\n",
    "def repeated_clicks(click_function, button, *args):\n",
    "    stop = False\n",
    "    j = 0\n",
    "    while not stop:\n",
    "        time.sleep(1)\n",
    "        result = click_function(*args)\n",
    "        if result:\n",
    "            stop = result\n",
    "            print(f'Button press result successful for {button} button.')\n",
    "        else:\n",
    "            j += 1\n",
    "            print(f'Attempt {j} unsuccessful for {button} button.')\n",
    "    print('\\n')\n",
    "    return\n",
    "\n",
    "def extract_episode_date(article:str, date_format:str='%a, %b %d, %Y') -> dict:\n",
    "    date_string = article.find_element(By.XPATH, episode_date_xpath).text\n",
    "    return {'air_date' : datetime.strptime(date_string, date_format)}\n",
    "\n",
    "def extract_episode_title(article:str) -> dict:\n",
    "    title_string = article.find_element(By.XPATH, episode_text_xpath).text\n",
    "    season_episode, title = [c.strip() for c in title_string.split('∙')]\n",
    "    season, episode = [''.join(re.findall(r'\\d', c)) for c in season_episode.split('.')]\n",
    "    return {'season' : season, 'episode' : episode, 'title' : title}\n",
    "\n",
    "def extract_episode_metadata(article) -> dict:\n",
    "    return {**extract_episode_title(article), **extract_episode_date(article)}"
   ]
  },
  {
   "cell_type": "markdown",
   "id": "6d8c930f",
   "metadata": {},
   "source": [
    "#### webscraping the data"
   ]
  },
  {
   "cell_type": "code",
   "execution_count": null,
   "id": "df9112da",
   "metadata": {},
   "outputs": [],
   "source": [
    "\n",
    "# Main loop\n",
    "data = []\n",
    "stop_loop = False\n",
    "i = 1\n",
    "\n",
    "while not stop_loop:\n",
    "    time.sleep(2)\n",
    "    \n",
    "    try:\n",
    "        next_season_button = driver.find_element(By.XPATH, next_season_button_xpath)\n",
    "    except NoSuchElementException:\n",
    "        print('All seasons completed, terminating loop.')\n",
    "        stop_loop = True\n",
    "        continue\n",
    "    \n",
    "    print(f'Scraping data for season {i}...')\n",
    "        \n",
    "    # Check dropdown\n",
    "    print('Checking if dropdown needs to be clicked...')\n",
    "    initial_display = driver.find_elements(By.XPATH, articles_xpath)\n",
    "\n",
    "    # Scroll to the screen element\n",
    "    time.sleep(3)\n",
    "    driver.execute_script(\"arguments[0].scrollIntoView(true);\", initial_display[-1])\n",
    "    time.sleep(2)\n",
    "    \n",
    "    # Re-locate the last article element to avoid stale reference\n",
    "    last_article = driver.find_elements(By.XPATH, articles_xpath)[-1]\n",
    "    repeated_clicks(try_to_click_dropdown, 'dropdown', last_article)\n",
    "    \n",
    "    # Collect raw paths to data\n",
    "    time.sleep(5)\n",
    "    articles = driver.find_elements(By.XPATH, articles_xpath)\n",
    "    for article in articles:\n",
    "        data.append(extract_episode_metadata(article))\n",
    "    \n",
    "    # Go to next page\n",
    "    repeated_clicks(try_to_click_next_page, 'next page')\n",
    "    i += 1\n",
    "\n",
    "driver.quit()\n",
    "episode_metadata = pd.DataFrame(data)"
   ]
  },
  {
   "cell_type": "code",
   "execution_count": null,
   "id": "a80363c9",
   "metadata": {},
   "outputs": [],
   "source": [
    "episode_metadata.head()"
   ]
  },
  {
   "cell_type": "markdown",
   "id": "4ad4bd1e",
   "metadata": {},
   "source": [
    "### setting up the data collection board"
   ]
  },
  {
   "cell_type": "code",
   "execution_count": null,
   "id": "bd838fb4-1c9f-4eee-bf35-803575fcc255",
   "metadata": {},
   "outputs": [],
   "source": [
    "## setting up the data collection board\n",
    "rounds = [1,1,1,1,1,1,2,2,2,2,2,3,3,3,3,4,4,4,5,5,6,7,8,9,10,11]\n",
    "round_turns = [1,2,3,4,5,6,1,2,3,4,5,1,2,3,4,1,2,3,1,2,1,1,1,1,1,1]\n",
    "base_board = pd.DataFrame({'round' : rounds, 'round_turn' : round_turns}).assign(\n",
    "    case = '',\n",
    "    value = '',\n",
    "    offer = '',\n",
    "    game_ended = '',\n",
    "    original_case = '',\n",
    "    winnings = '',\n",
    ")\n",
    "base_board.loc[base_board['round'] >= 10, 'game_ended'] = '1'\n",
    "base_board.loc[(base_board['round'] == 10) & (base_board['round_turn'] == 1), 'original_case'] = '1'"
   ]
  },
  {
   "cell_type": "code",
   "execution_count": null,
   "id": "83903924-6413-457e-8070-64fa0b601181",
   "metadata": {},
   "outputs": [],
   "source": [
    "total_games = episode_metadata.shape[0]\n",
    "final_board = pd.concat([base_board.copy() for _ in range(total_games)])\n",
    "final_board.insert(0, 'ID', np.repeat(range(1, total_games + 1), base_board.shape[0]))"
   ]
  },
  {
   "cell_type": "code",
   "execution_count": null,
   "id": "1881f7b4-94e5-4ac6-b878-cbd4538a6ea9",
   "metadata": {},
   "outputs": [],
   "source": [
    "final_board.to_csv('data_entry_template.csv', index=False)\n",
    "episode_metadata.to_csv('dond_episode_metadata.csv', index=False)"
   ]
  }
 ],
 "metadata": {
  "kernelspec": {
   "display_name": "Python 3 (ipykernel)",
   "language": "python",
   "name": "python3"
  },
  "language_info": {
   "codemirror_mode": {
    "name": "ipython",
    "version": 3
   },
   "file_extension": ".py",
   "mimetype": "text/x-python",
   "name": "python",
   "nbconvert_exporter": "python",
   "pygments_lexer": "ipython3",
   "version": "3.11.5"
  }
 },
 "nbformat": 4,
 "nbformat_minor": 5
}
